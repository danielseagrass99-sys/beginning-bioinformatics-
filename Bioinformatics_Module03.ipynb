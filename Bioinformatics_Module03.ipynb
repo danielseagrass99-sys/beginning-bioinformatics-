{
  "nbformat": 4,
  "nbformat_minor": 0,
  "metadata": {
    "colab": {
      "provenance": [],
      "authorship_tag": "ABX9TyNVM+YD1Pq5BBMmRPnAkFWs",
      "include_colab_link": true
    },
    "kernelspec": {
      "name": "python3",
      "display_name": "Python 3"
    },
    "language_info": {
      "name": "python"
    }
  },
  "cells": [
    {
      "cell_type": "markdown",
      "metadata": {
        "id": "view-in-github",
        "colab_type": "text"
      },
      "source": [
        "<a href=\"https://colab.research.google.com/github/danielseagrass99-sys/beginning-bioinformatics-/blob/main/Bioinformatics_Module03.ipynb\" target=\"_parent\"><img src=\"https://colab.research.google.com/assets/colab-badge.svg\" alt=\"Open In Colab\"/></a>"
      ]
    },
    {
      "cell_type": "code",
      "execution_count": null,
      "metadata": {
        "id": "e7hIPvat29ga"
      },
      "outputs": [],
      "source": []
    },
    {
      "cell_type": "code",
      "source": [
        "my_list = [\"Hello\", \"World\", \"Charles Darwin\"]\n",
        "print (my_list[1])\n"
      ],
      "metadata": {
        "colab": {
          "base_uri": "https://localhost:8080/"
        },
        "id": "H3RgLIpsyWWf",
        "outputId": "3c0ed614-f721-43b6-e189-1fe742ef54e3"
      },
      "execution_count": null,
      "outputs": [
        {
          "output_type": "stream",
          "name": "stdout",
          "text": [
            "World\n"
          ]
        }
      ]
    },
    {
      "cell_type": "code",
      "source": [
        "my_list[2] = \"Alfred R. Wallace\""
      ],
      "metadata": {
        "id": "sGqzJw5iyqp2"
      },
      "execution_count": null,
      "outputs": []
    },
    {
      "cell_type": "code",
      "source": [
        "s = \"HrIdUYrytQkUaMFJhhlh8zLzWm0BNEI3KatMJ9Q1rXhAllactagaeHoIwOXjFgR8DhoIjByCORy0xc0XEC1VaxA58bArAx9zrQdzzfJQyXjt7stOHi3b2TrPV9nrjRrQccLtWYXDJz8GdcXs2zxFx4mNR2zzmehelyiIMfLX3OFq3tFpGZsX040GS678N.\"\n",
        "a, b, c, d = 43, 51, 156, 162\n",
        "\n",
        "# Python slicing is exclusive of the stop index, so we add 1 to include the end index\n",
        "slice1 = s[a : b + 1]\n",
        "slice2 = s[c : d + 1]\n",
        "\n",
        "print(slice1, slice2)"
      ],
      "metadata": {
        "colab": {
          "base_uri": "https://localhost:8080/"
        },
        "id": "fciasasZzl2G",
        "outputId": "149f78a6-4658-4963-8895-2a189cefc7b0"
      },
      "execution_count": null,
      "outputs": [
        {
          "output_type": "stream",
          "name": "stdout",
          "text": [
            "Allactaga mehelyi\n"
          ]
        }
      ]
    },
    {
      "cell_type": "code",
      "source": [
        "a=5\n",
        "b=5\n",
        "if a!=b:\n",
        "  print (a-b)\n",
        "else:\n",
        "    print (a+b)"
      ],
      "metadata": {
        "colab": {
          "base_uri": "https://localhost:8080/"
        },
        "id": "7n6wmVBo6VBu",
        "outputId": "524b3d26-622a-4e6c-9e49-551da1b44ce5"
      },
      "execution_count": null,
      "outputs": [
        {
          "output_type": "stream",
          "name": "stdout",
          "text": [
            "10\n"
          ]
        }
      ]
    },
    {
      "cell_type": "code",
      "source": [
        "#initiate a counter\n",
        "a = 1\n",
        "\n",
        "#print \"Counting!\" while a<=3\n",
        "while a <= 3:\n",
        "\n",
        "    print (\"Counting!\" * a)\n",
        "    #a += 1"
      ],
      "metadata": {
        "id": "F0npcqYA8Kpd"
      },
      "execution_count": null,
      "outputs": []
    },
    {
      "cell_type": "code",
      "source": [
        "print (\"hello world\")"
      ],
      "metadata": {
        "colab": {
          "base_uri": "https://localhost:8080/"
        },
        "id": "CwudQ-eK31s-",
        "outputId": "b4145844-116e-4bdf-930b-849bb34193dd"
      },
      "execution_count": null,
      "outputs": [
        {
          "output_type": "stream",
          "name": "stdout",
          "text": [
            "hello world\n"
          ]
        }
      ]
    },
    {
      "cell_type": "code",
      "source": [
        "print (\"hello world\")"
      ],
      "metadata": {
        "colab": {
          "base_uri": "https://localhost:8080/"
        },
        "id": "q6oe8Tym9IZU",
        "outputId": "4f336199-6986-496f-a652-30fc9b63e584"
      },
      "execution_count": null,
      "outputs": [
        {
          "output_type": "stream",
          "name": "stdout",
          "text": [
            "hello world\n"
          ]
        }
      ]
    },
    {
      "cell_type": "code",
      "source": [
        "x=5\n",
        "print (x)"
      ],
      "metadata": {
        "colab": {
          "base_uri": "https://localhost:8080/"
        },
        "id": "Q3NUZcly98na",
        "outputId": "b4df24c4-0a29-4ef4-fb44-0007af019841"
      },
      "execution_count": null,
      "outputs": [
        {
          "output_type": "stream",
          "name": "stdout",
          "text": [
            "5\n"
          ]
        }
      ]
    },
    {
      "cell_type": "code",
      "source": [
        "a=924\n",
        "b=856\n",
        "c=a**2 + b**2\n",
        "c\n",
        "\n",
        "\n"
      ],
      "metadata": {
        "colab": {
          "base_uri": "https://localhost:8080/"
        },
        "id": "5fTFNo7D-SBS",
        "outputId": "f4d802dc-8cb7-4840-ef4c-280f82b23df8"
      },
      "execution_count": null,
      "outputs": [
        {
          "output_type": "execute_result",
          "data": {
            "text/plain": [
              "1586512"
            ]
          },
          "metadata": {},
          "execution_count": 27
        }
      ]
    },
    {
      "cell_type": "code",
      "metadata": {
        "colab": {
          "base_uri": "https://localhost:8080/"
        },
        "id": "4abeae02",
        "outputId": "7a4c1bbc-1fd0-4613-8e31-7c239ca26395"
      },
      "source": [
        "# Example 1: Assigning an integer value to a variable\n",
        "my_integer = 10\n",
        "print(my_integer)"
      ],
      "execution_count": null,
      "outputs": [
        {
          "output_type": "stream",
          "name": "stdout",
          "text": [
            "10\n"
          ]
        }
      ]
    },
    {
      "cell_type": "code",
      "metadata": {
        "colab": {
          "base_uri": "https://localhost:8080/"
        },
        "id": "c06f7d27",
        "outputId": "fa87d51b-c87d-47f0-ab78-e24490222c14"
      },
      "source": [
        "# Example 2: Assigning a string value to a variable\n",
        "my_string = \"Hello, world!\"\n",
        "print(my_string)"
      ],
      "execution_count": null,
      "outputs": [
        {
          "output_type": "stream",
          "name": "stdout",
          "text": [
            "Hello, world!\n"
          ]
        }
      ]
    },
    {
      "cell_type": "code",
      "metadata": {
        "colab": {
          "base_uri": "https://localhost:8080/"
        },
        "id": "3772c59f",
        "outputId": "b0f34595-71f9-49bf-d67b-f2d9ee5f4248"
      },
      "source": [
        "# Example 3: Assigning the result of an expression to a variable\n",
        "a = 5\n",
        "b = 3\n",
        "sum_result = a + b\n",
        "print(sum_result)\n",
        "hello=\"world\"\n",
        "print(hello)"
      ],
      "execution_count": null,
      "outputs": [
        {
          "output_type": "stream",
          "name": "stdout",
          "text": [
            "8\n",
            "world\n"
          ]
        }
      ]
    },
    {
      "cell_type": "code",
      "source": [
        "a=5\n",
        "b=5\n",
        "if a!=5:\n",
        "  print (a-b)\n",
        "else:\n",
        "  print (a-b)\n"
      ],
      "metadata": {
        "colab": {
          "base_uri": "https://localhost:8080/"
        },
        "id": "fl2MXDqT_lGT",
        "outputId": "f6245104-cf3b-4d81-a429-bc405ffadb91"
      },
      "execution_count": null,
      "outputs": [
        {
          "output_type": "stream",
          "name": "stdout",
          "text": [
            "0\n"
          ]
        }
      ]
    },
    {
      "cell_type": "code",
      "source": [
        "names = [\"Alice, Bob, Charlie\"]\n",
        "for name in names:\n",
        "  print (\"Hello\", name)\n"
      ],
      "metadata": {
        "colab": {
          "base_uri": "https://localhost:8080/"
        },
        "id": "Kjzn78jwFCeP",
        "outputId": "1c0325da-fdfc-4a58-c662-9eb84cccf4c3"
      },
      "execution_count": null,
      "outputs": [
        {
          "output_type": "stream",
          "name": "stdout",
          "text": [
            "Hello Alice, Bob, Charlie\n"
          ]
        }
      ]
    },
    {
      "cell_type": "code",
      "source": [
        "# Create a variable to define the  number of iterations\n",
        "iterations = 10\n",
        "\n",
        "#Print the current item's value each time through the loop\n",
        "for number in range(iterations):\n",
        "    print (number)\n",
        "\n"
      ],
      "metadata": {
        "colab": {
          "base_uri": "https://localhost:8080/"
        },
        "id": "HVo_t7FrF3e4",
        "outputId": "a9fb444b-b8ad-412b-ca11-3ca99200ec5d"
      },
      "execution_count": null,
      "outputs": [
        {
          "output_type": "stream",
          "name": "stdout",
          "text": [
            "0\n",
            "1\n",
            "2\n",
            "3\n",
            "4\n",
            "5\n",
            "6\n",
            "7\n",
            "8\n",
            "9\n"
          ]
        }
      ]
    },
    {
      "cell_type": "code",
      "source": [
        "a, b = 100, 200\n",
        "total = 0\n",
        "for i in range(a, b + 1):   # b+1 so b is included\n",
        "    if i % 2 == 1:\n",
        "        total += i\n",
        "print(total)\n"
      ],
      "metadata": {
        "colab": {
          "base_uri": "https://localhost:8080/"
        },
        "id": "aHTRU3wfIpkn",
        "outputId": "ed201755-1dba-430c-9f62-6e9a517c646b"
      },
      "execution_count": null,
      "outputs": [
        {
          "output_type": "stream",
          "name": "stdout",
          "text": [
            "7500\n"
          ]
        }
      ]
    },
    {
      "cell_type": "code",
      "source": [
        "a, b = 4247, 8880\n",
        "total = 0\n",
        "for i in range(a, b + 1):   # b+1 so b is included\n",
        "    if i % 2 == 1:\n",
        "        total += i\n",
        "print(total)\n"
      ],
      "metadata": {
        "colab": {
          "base_uri": "https://localhost:8080/"
        },
        "id": "RwIL_0LZIvYI",
        "outputId": "eae5a17b-afbe-4531-d12b-41fa7d5d3007"
      },
      "execution_count": null,
      "outputs": [
        {
          "output_type": "stream",
          "name": "stdout",
          "text": [
            "15206471\n"
          ]
        }
      ]
    },
    {
      "cell_type": "code",
      "source": [
        "names = [\"Alice\",\"Bob\",\"Charley\"]\n",
        "\n",
        "for name in names:\n",
        "    print (\"Hello\", name)"
      ],
      "metadata": {
        "colab": {
          "base_uri": "https://localhost:8080/"
        },
        "id": "Apq2HJ62igBw",
        "outputId": "7e406bba-465c-41e9-b5ee-db080c2ea944"
      },
      "execution_count": 1,
      "outputs": [
        {
          "output_type": "stream",
          "name": "stdout",
          "text": [
            "Hello Alice\n",
            "Hello Bob\n",
            "Hello Charley\n"
          ]
        }
      ]
    },
    {
      "cell_type": "code",
      "source": [
        "with open(\"practice.txt\",\"r\") as data:\n",
        "\n",
        "    print(data.read())\n",
        "\n",
        "    #print(data.readline())\n",
        "\n",
        "    #print(data.readlines())"
      ],
      "metadata": {
        "colab": {
          "base_uri": "https://localhost:8080/",
          "height": 211
        },
        "id": "nIuuMQTPnXuB",
        "outputId": "b94a4e60-3f68-4584-d028-b928ad64c08a"
      },
      "execution_count": 6,
      "outputs": [
        {
          "output_type": "error",
          "ename": "FileNotFoundError",
          "evalue": "[Errno 2] No such file or directory: 'practice.txt'",
          "traceback": [
            "\u001b[0;31m---------------------------------------------------------------------------\u001b[0m",
            "\u001b[0;31mFileNotFoundError\u001b[0m                         Traceback (most recent call last)",
            "\u001b[0;32m/tmp/ipython-input-3471027773.py\u001b[0m in \u001b[0;36m<cell line: 0>\u001b[0;34m()\u001b[0m\n\u001b[0;32m----> 1\u001b[0;31m \u001b[0;32mwith\u001b[0m \u001b[0mopen\u001b[0m\u001b[0;34m(\u001b[0m\u001b[0;34m\"practice.txt\"\u001b[0m\u001b[0;34m,\u001b[0m\u001b[0;34m\"r\"\u001b[0m\u001b[0;34m)\u001b[0m \u001b[0;32mas\u001b[0m \u001b[0mdata\u001b[0m\u001b[0;34m:\u001b[0m\u001b[0;34m\u001b[0m\u001b[0;34m\u001b[0m\u001b[0m\n\u001b[0m\u001b[1;32m      2\u001b[0m \u001b[0;34m\u001b[0m\u001b[0m\n\u001b[1;32m      3\u001b[0m     \u001b[0mprint\u001b[0m\u001b[0;34m(\u001b[0m\u001b[0mdata\u001b[0m\u001b[0;34m.\u001b[0m\u001b[0mread\u001b[0m\u001b[0;34m(\u001b[0m\u001b[0;34m)\u001b[0m\u001b[0;34m)\u001b[0m\u001b[0;34m\u001b[0m\u001b[0;34m\u001b[0m\u001b[0m\n\u001b[1;32m      4\u001b[0m \u001b[0;34m\u001b[0m\u001b[0m\n\u001b[1;32m      5\u001b[0m     \u001b[0;31m#print(data.readline())\u001b[0m\u001b[0;34m\u001b[0m\u001b[0;34m\u001b[0m\u001b[0m\n",
            "\u001b[0;31mFileNotFoundError\u001b[0m: [Errno 2] No such file or directory: 'practice.txt'"
          ]
        }
      ]
    },
    {
      "cell_type": "code",
      "source": [
        "with open(\"practice.txt\",\"r\") as data:\n",
        "\n",
        "    print(data.read())\n",
        "\n",
        "    #print(data.readline())\n",
        "\n",
        "    #print(data.readlines(Bravely bold Sir Robin rode forth from Camelot\n",
        "Yes, brave Sir Robin turned about\n",
        "He was not afraid to die, O brave Sir Robin\n",
        "And gallantly he chickened out\n",
        "He was not at all afraid to be killed in nasty ways\n",
        "Bravely talking to his feet\n",
        "Brave, brave, brave, brave Sir Robin\n",
        "He beat a very brave retreat))"
      ],
      "metadata": {
        "colab": {
          "base_uri": "https://localhost:8080/",
          "height": 106
        },
        "id": "VjQAdg4KnmGx",
        "outputId": "9118cdf3-a0e5-49d4-dbf7-dcb4aa83953e"
      },
      "execution_count": 5,
      "outputs": [
        {
          "output_type": "error",
          "ename": "SyntaxError",
          "evalue": "unmatched ')' (ipython-input-3375310216.py, line 14)",
          "traceback": [
            "\u001b[0;36m  File \u001b[0;32m\"/tmp/ipython-input-3375310216.py\"\u001b[0;36m, line \u001b[0;32m14\u001b[0m\n\u001b[0;31m    He beat a very brave retreat))\u001b[0m\n\u001b[0m                                ^\u001b[0m\n\u001b[0;31mSyntaxError\u001b[0m\u001b[0;31m:\u001b[0m unmatched ')'\n"
          ]
        }
      ]
    },
    {
      "cell_type": "code",
      "metadata": {
        "id": "4a0df269"
      },
      "source": [
        "# Create a dummy file for demonstration purposes\n",
        "with open(\"practice.txt\", \"w\") as f:\n",
        "    f.write(\"This is a practice file.\\n\")\n",
        "    f.write(\"This is the second line.\")"
      ],
      "execution_count": 7,
      "outputs": []
    },
    {
      "cell_type": "code",
      "source": [],
      "metadata": {
        "id": "gCdP8l39phk6"
      },
      "execution_count": null,
      "outputs": []
    },
    {
      "cell_type": "code",
      "source": [
        "with open(\"practice.txt\",\"r\") as data:\n",
        "\n",
        "    print(data.read())\n",
        "\n",
        "    #print(data.readline())\n",
        "\n",
        "    #print(data.readlines())"
      ],
      "metadata": {
        "id": "HnaA63iQplqQ"
      },
      "execution_count": null,
      "outputs": []
    },
    {
      "cell_type": "code",
      "source": [
        "def run():\n",
        "    # open the file (put the text file in the same folder as this script)\n",
        "    with open() as f:\n",
        "        for lineno, line in enumerate(f, start=1):  # start=1 makes first line = 1\n",
        "            if lineno % 2 == 0:  # even-numbered lines\n",
        "                print(line.strip())"
      ],
      "metadata": {
        "id": "Roxecz5Apuq5"
      },
      "execution_count": 9,
      "outputs": []
    },
    {
      "cell_type": "code",
      "source": [
        "with open(\"practice.txt\",\"r\") as data:\n",
        "\n",
        "    print(data.read())\n",
        "\n",
        "    #print(data.readline())\n",
        "\n",
        "\n",
        "    #print(data.readlines())"
      ],
      "metadata": {
        "colab": {
          "base_uri": "https://localhost:8080/"
        },
        "id": "bIEEUjd2r1eg",
        "outputId": "e1b67757-c6ee-491a-b75c-a8617a928f94"
      },
      "execution_count": 12,
      "outputs": [
        {
          "output_type": "stream",
          "name": "stdout",
          "text": [
            "This is a practice file.\n",
            "This is the second line.\n"
          ]
        }
      ]
    },
    {
      "cell_type": "code",
      "source": [
        "with open(\"practice.txt\",\"r\") as data:\n",
        "\n",
        "  list_of_lines=data.readlines()\n",
        "\n",
        "print (list_of_lines)"
      ],
      "metadata": {
        "colab": {
          "base_uri": "https://localhost:8080/"
        },
        "id": "GXgLO7vnu-2o",
        "outputId": "b4913caa-336f-4beb-c5d5-122a32a564f2"
      },
      "execution_count": 14,
      "outputs": [
        {
          "output_type": "stream",
          "name": "stdout",
          "text": [
            "['This is a practice file.\\n', 'This is the second line.']\n"
          ]
        }
      ]
    },
    {
      "cell_type": "code",
      "source": [
        "with open(\"practice_5.txt\",\"r\") as data:\n",
        "\n",
        "  line=data.read()\n",
        "\n",
        "for word in line.split():\n",
        "    print (word)"
      ],
      "metadata": {
        "colab": {
          "base_uri": "https://localhost:8080/",
          "height": 211
        },
        "id": "AgCxejnuz6Nx",
        "outputId": "eaa766d2-734e-4a4a-aa12-211805b4f7bb"
      },
      "execution_count": 15,
      "outputs": [
        {
          "output_type": "error",
          "ename": "FileNotFoundError",
          "evalue": "[Errno 2] No such file or directory: 'practice_5.txt'",
          "traceback": [
            "\u001b[0;31m---------------------------------------------------------------------------\u001b[0m",
            "\u001b[0;31mFileNotFoundError\u001b[0m                         Traceback (most recent call last)",
            "\u001b[0;32m/tmp/ipython-input-1685005624.py\u001b[0m in \u001b[0;36m<cell line: 0>\u001b[0;34m()\u001b[0m\n\u001b[0;32m----> 1\u001b[0;31m \u001b[0;32mwith\u001b[0m \u001b[0mopen\u001b[0m\u001b[0;34m(\u001b[0m\u001b[0;34m\"practice_5.txt\"\u001b[0m\u001b[0;34m,\u001b[0m\u001b[0;34m\"r\"\u001b[0m\u001b[0;34m)\u001b[0m \u001b[0;32mas\u001b[0m \u001b[0mdata\u001b[0m\u001b[0;34m:\u001b[0m\u001b[0;34m\u001b[0m\u001b[0;34m\u001b[0m\u001b[0m\n\u001b[0m\u001b[1;32m      2\u001b[0m \u001b[0;34m\u001b[0m\u001b[0m\n\u001b[1;32m      3\u001b[0m   \u001b[0mline\u001b[0m\u001b[0;34m=\u001b[0m\u001b[0mdata\u001b[0m\u001b[0;34m.\u001b[0m\u001b[0mread\u001b[0m\u001b[0;34m(\u001b[0m\u001b[0;34m)\u001b[0m\u001b[0;34m\u001b[0m\u001b[0;34m\u001b[0m\u001b[0m\n\u001b[1;32m      4\u001b[0m \u001b[0;34m\u001b[0m\u001b[0m\n\u001b[1;32m      5\u001b[0m \u001b[0;32mfor\u001b[0m \u001b[0mword\u001b[0m \u001b[0;32min\u001b[0m \u001b[0mline\u001b[0m\u001b[0;34m.\u001b[0m\u001b[0msplit\u001b[0m\u001b[0;34m(\u001b[0m\u001b[0;34m)\u001b[0m\u001b[0;34m:\u001b[0m\u001b[0;34m\u001b[0m\u001b[0;34m\u001b[0m\u001b[0m\n",
            "\u001b[0;31mFileNotFoundError\u001b[0m: [Errno 2] No such file or directory: 'practice_5.txt'"
          ]
        }
      ]
    },
    {
      "cell_type": "code",
      "source": [
        "with open(/content/rosalind_ini6.txt) as data:\n",
        "\n",
        "  line=data.read()\n",
        "\n",
        "for word in line.split():\n",
        "    print (word)"
      ],
      "metadata": {
        "colab": {
          "base_uri": "https://localhost:8080/"
        },
        "id": "s50TmVVH0DKQ",
        "outputId": "83d305a9-ce7f-4957-c971-2bfebe5df9b4"
      },
      "execution_count": 18,
      "outputs": [
        {
          "output_type": "stream",
          "name": "stdout",
          "text": [
            "This\n",
            "is\n",
            "a\n",
            "practice\n",
            "file.\n",
            "This\n",
            "is\n",
            "the\n",
            "second\n",
            "line.\n"
          ]
        }
      ]
    },
    {
      "cell_type": "code",
      "source": [
        "with open(\"practice_5.txt\",\"r\") as data:\n",
        "\n",
        "  line=data.read(We tried list and we tried dicts also we tried Zen)\n",
        "\n",
        "for word in line.split(We tried list and we tried dicts also we tried Zen):\n",
        "    print (word)"
      ],
      "metadata": {
        "colab": {
          "base_uri": "https://localhost:8080/",
          "height": 106
        },
        "id": "Rj4w13M50d6g",
        "outputId": "d545f8fb-964b-4aa5-9934-11aaf53970d7"
      },
      "execution_count": 17,
      "outputs": [
        {
          "output_type": "error",
          "ename": "SyntaxError",
          "evalue": "invalid syntax. Perhaps you forgot a comma? (ipython-input-363556250.py, line 3)",
          "traceback": [
            "\u001b[0;36m  File \u001b[0;32m\"/tmp/ipython-input-363556250.py\"\u001b[0;36m, line \u001b[0;32m3\u001b[0m\n\u001b[0;31m    line=data.read(We tried list and we tried dicts also we tried Zen)\u001b[0m\n\u001b[0m                   ^\u001b[0m\n\u001b[0;31mSyntaxError\u001b[0m\u001b[0;31m:\u001b[0m invalid syntax. Perhaps you forgot a comma?\n"
          ]
        }
      ]
    },
    {
      "cell_type": "code",
      "source": [
        "with open(\"/content/rosalind_ini6.txt\") as data:\n",
        "\n",
        "  line=data.read()\n",
        "\n",
        "for word in line.split():\n",
        "    print (word)"
      ],
      "metadata": {
        "colab": {
          "base_uri": "https://localhost:8080/"
        },
        "id": "iXfaHlLm22BJ",
        "outputId": "8038b4ab-256b-47e8-aff7-b8a84b0d8bd1"
      },
      "execution_count": 20,
      "outputs": [
        {
          "output_type": "stream",
          "name": "stdout",
          "text": [
            "When\n",
            "I\n",
            "find\n",
            "myself\n",
            "in\n",
            "times\n",
            "of\n",
            "trouble\n",
            "Mother\n",
            "Mary\n",
            "comes\n",
            "to\n",
            "me\n",
            "Speaking\n",
            "words\n",
            "of\n",
            "wisdom\n",
            "let\n",
            "it\n",
            "be\n",
            "And\n",
            "in\n",
            "my\n",
            "hour\n",
            "of\n",
            "darkness\n",
            "she\n",
            "is\n",
            "standing\n",
            "right\n",
            "in\n",
            "front\n",
            "of\n",
            "me\n",
            "Speaking\n",
            "words\n",
            "of\n",
            "wisdom\n",
            "let\n",
            "it\n",
            "be\n",
            "Let\n",
            "it\n",
            "be\n",
            "let\n",
            "it\n",
            "be\n",
            "let\n",
            "it\n",
            "be\n",
            "let\n",
            "it\n",
            "be\n",
            "Whisper\n",
            "words\n",
            "of\n",
            "wisdom\n",
            "let\n",
            "it\n",
            "be\n",
            "And\n",
            "when\n",
            "the\n",
            "broken\n",
            "hearted\n",
            "people\n",
            "living\n",
            "in\n",
            "the\n",
            "world\n",
            "agree\n",
            "There\n",
            "will\n",
            "be\n",
            "an\n",
            "answer\n",
            "let\n",
            "it\n",
            "be\n",
            "For\n",
            "though\n",
            "they\n",
            "may\n",
            "be\n",
            "parted\n",
            "there\n",
            "is\n",
            "still\n",
            "a\n",
            "chance\n",
            "that\n",
            "they\n",
            "will\n",
            "see\n",
            "There\n",
            "will\n",
            "be\n",
            "an\n",
            "answer\n",
            "let\n",
            "it\n",
            "be\n",
            "Let\n",
            "it\n",
            "be\n",
            "let\n",
            "it\n",
            "be\n",
            "let\n",
            "it\n",
            "be\n",
            "let\n",
            "it\n",
            "be\n",
            "There\n",
            "will\n",
            "be\n",
            "an\n",
            "answer\n",
            "let\n",
            "it\n",
            "be\n",
            "Let\n",
            "it\n",
            "be\n",
            "let\n",
            "it\n",
            "be\n",
            "let\n",
            "it\n",
            "be\n",
            "let\n",
            "it\n",
            "be\n",
            "Whisper\n",
            "words\n",
            "of\n",
            "wisdom\n",
            "let\n",
            "it\n",
            "be\n",
            "Let\n",
            "it\n",
            "be\n",
            "let\n",
            "it\n",
            "be\n",
            "let\n",
            "it\n",
            "be\n",
            "let\n",
            "it\n",
            "be\n",
            "Whisper\n",
            "words\n",
            "of\n",
            "wisdom\n",
            "let\n",
            "it\n",
            "be\n",
            "And\n",
            "when\n",
            "the\n",
            "night\n",
            "is\n",
            "cloudy\n",
            "there\n",
            "is\n",
            "still\n",
            "a\n",
            "light\n",
            "that\n",
            "shines\n",
            "on\n",
            "me\n",
            "Shine\n",
            "until\n",
            "tomorrow\n",
            "let\n",
            "it\n",
            "be\n",
            "I\n",
            "wake\n",
            "up\n",
            "to\n",
            "the\n",
            "sound\n",
            "of\n",
            "music\n",
            "Mother\n",
            "Mary\n",
            "comes\n",
            "to\n",
            "me\n",
            "Speaking\n",
            "words\n",
            "of\n",
            "wisdom\n",
            "let\n",
            "it\n",
            "be\n",
            "Let\n",
            "it\n",
            "be\n",
            "let\n",
            "it\n",
            "be\n",
            "let\n",
            "it\n",
            "be\n",
            "yeah\n",
            "let\n",
            "it\n",
            "be\n",
            "There\n",
            "will\n",
            "be\n",
            "an\n",
            "answer\n",
            "let\n",
            "it\n",
            "be\n",
            "Let\n",
            "it\n",
            "be\n",
            "let\n",
            "it\n",
            "be\n",
            "let\n",
            "it\n",
            "be\n",
            "yeah\n",
            "let\n",
            "it\n",
            "be\n",
            "Whisper\n",
            "words\n",
            "of\n",
            "wisdom\n",
            "let\n",
            "it\n",
            "be\n"
          ]
        }
      ]
    },
    {
      "cell_type": "code",
      "source": [
        "with open(\"practice_5.txt\",\"r\") as data:\n",
        "\n",
        "  line=data.read()\n",
        "\n",
        "for word in line.split():\n",
        "    print (word)"
      ],
      "metadata": {
        "id": "coQhprEO8BIU"
      },
      "execution_count": null,
      "outputs": []
    },
    {
      "cell_type": "code",
      "source": [
        "sequences = {\n",
        "    \"H.neandertalensis\":\"ACGTCGCTCTGCTA\",\n",
        "    \"H.sapiens\":\"ACGTCACTCTGCTA\"\n",
        "    }\n",
        "\n",
        "print (sequences)"
      ],
      "metadata": {
        "colab": {
          "base_uri": "https://localhost:8080/"
        },
        "id": "F8TFRVHX9-NF",
        "outputId": "9f611da8-ce0b-4d98-eb0d-4dc05bccfce6"
      },
      "execution_count": 21,
      "outputs": [
        {
          "output_type": "stream",
          "name": "stdout",
          "text": [
            "{'H.neandertalensis': 'ACGTCGCTCTGCTA', 'H.sapiens': 'ACGTCACTCTGCTA'}\n"
          ]
        }
      ]
    },
    {
      "cell_type": "code",
      "source": [
        "sequences[\"P.troglodytes\"]=\"ACGTCACTCTCCTA\"\n",
        "\n",
        "sequences.update({\"G.gorilla\":\"ACGTCCTCCTA\", \"H.erectus\":\"ACGTCACTCTGCTA\"})\n",
        "\n",
        "print (sequences[\"H.sapiens\"])\n",
        "\n",
        "for key,value in sequences.items():\n",
        "     print (key,value)"
      ],
      "metadata": {
        "colab": {
          "base_uri": "https://localhost:8080/"
        },
        "id": "aKW8_l0H-GYs",
        "outputId": "7e7c8cff-857d-4c58-f0f9-46cb639cf402"
      },
      "execution_count": 22,
      "outputs": [
        {
          "output_type": "stream",
          "name": "stdout",
          "text": [
            "ACGTCACTCTGCTA\n",
            "H.neandertalensis ACGTCGCTCTGCTA\n",
            "H.sapiens ACGTCACTCTGCTA\n",
            "P.troglodytes ACGTCACTCTCCTA\n",
            "G.gorilla ACGTCCTCCTA\n",
            "H.erectus ACGTCACTCTGCTA\n"
          ]
        }
      ]
    }
  ]
}